{
 "cells": [
  {
   "cell_type": "code",
   "execution_count": 14,
   "metadata": {},
   "outputs": [
    {
     "name": "stdout",
     "output_type": "stream",
     "text": [
      "<re.Match object; span=(19, 30), match='17318062050'>\n"
     ]
    }
   ],
   "source": [
    "import re\n",
    "text = \"My Phone number is 17318062050,and my email is 1427298682@qq.com.\"\n",
    "regex = '\\d{11}'\n",
    "result = re.match(regex,text)\n",
    "print(result)"
   ]
  },
  {
   "cell_type": "code",
   "execution_count": 16,
   "metadata": {},
   "outputs": [
    {
     "name": "stdout",
     "output_type": "stream",
     "text": [
      "<re.Match object; span=(0, 30), match='My Phone number is 17318062050'>\n",
      "My Phone number is 17318062050\n",
      "(0, 30)\n"
     ]
    }
   ],
   "source": [
    "import re\n",
    "text = \"My Phone number is 17318062050,and my email is 1427298682@qq.com.\"\n",
    "regex = '^.*?\\d{11}'\n",
    "result = re.match(regex,text)\n",
    "print(result)\n",
    "print(result.group())\n",
    "print(result.span())"
   ]
  },
  {
   "cell_type": "code",
   "execution_count": 18,
   "metadata": {},
   "outputs": [
    {
     "data": {
      "text/plain": [
       "'My Phone number is 17318062050'"
      ]
     },
     "execution_count": 18,
     "metadata": {},
     "output_type": "execute_result"
    }
   ],
   "source": [
    "result.group(0) "
   ]
  },
  {
   "cell_type": "code",
   "execution_count": 19,
   "metadata": {},
   "outputs": [
    {
     "name": "stdout",
     "output_type": "stream",
     "text": [
      "17318062050\n"
     ]
    }
   ],
   "source": [
    "import re\n",
    "text = \"My Phone number is 17318062050,and my email is 1427298682@qq.com.\"\n",
    "regex = '^.*?(\\d{11})'\n",
    "result = re.match(regex,text)\n",
    "print(result.group(1))"
   ]
  },
  {
   "cell_type": "code",
   "execution_count": 12,
   "metadata": {},
   "outputs": [
    {
     "name": "stdout",
     "output_type": "stream",
     "text": [
      "<re.Match object; span=(19, 30), match='17318062050'>\n"
     ]
    }
   ],
   "source": [
    "import re\n",
    "text = \"My Phone number is 17318062050,and my email is 1427298682@qq.com.\"\n",
    "regex = '\\d{11}'\n",
    "result = re.search(regex,text)\n",
    "print(result)"
   ]
  },
  {
   "cell_type": "code",
   "execution_count": 15,
   "metadata": {},
   "outputs": [
    {
     "name": "stdout",
     "output_type": "stream",
     "text": [
      "<re.Match object; span=(19, 30), match='17318062050'>\n"
     ]
    }
   ],
   "source": [
    "import re\n",
    "text = \"My Phone number is 17318062050,and my email is 1427298682@qq.com.\"\n",
    "regex = '\\d{11}'\n",
    "pattern = re.compile(regex)\n",
    "result = re.search(pattern,text)\n",
    "print(result)"
   ]
  },
  {
   "cell_type": "code",
   "execution_count": 8,
   "metadata": {},
   "outputs": [],
   "source": []
  },
  {
   "cell_type": "code",
   "execution_count": null,
   "metadata": {},
   "outputs": [],
   "source": []
  }
 ],
 "metadata": {
  "kernelspec": {
   "display_name": "Python 3",
   "language": "python",
   "name": "python3"
  },
  "language_info": {
   "codemirror_mode": {
    "name": "ipython",
    "version": 3
   },
   "file_extension": ".py",
   "mimetype": "text/x-python",
   "name": "python",
   "nbconvert_exporter": "python",
   "pygments_lexer": "ipython3",
   "version": "3.7.4"
  }
 },
 "nbformat": 4,
 "nbformat_minor": 2
}
