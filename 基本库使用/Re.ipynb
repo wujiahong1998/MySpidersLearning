{
 "cells": [
  {
   "cell_type": "markdown",
   "metadata": {},
   "source": [
    "## match()方法"
   ]
  },
  {
   "cell_type": "markdown",
   "metadata": {},
   "source": [
    "match默认从字符串起始位置开始匹配，所以下面返回None"
   ]
  },
  {
   "cell_type": "code",
   "execution_count": 1,
   "metadata": {
    "scrolled": true
   },
   "outputs": [
    {
     "name": "stdout",
     "output_type": "stream",
     "text": [
      "None\n"
     ]
    }
   ],
   "source": [
    "import re\n",
    "text = \"My Phone number is 17318062050,and my email is 1427298682@qq.com.\"\n",
    "regex = '\\d{11}'\n",
    "result = re.match(regex,text)\n",
    "print(result)"
   ]
  },
  {
   "cell_type": "markdown",
   "metadata": {},
   "source": [
    "从开始匹配则有返回匹配结果"
   ]
  },
  {
   "cell_type": "code",
   "execution_count": 3,
   "metadata": {
    "scrolled": false
   },
   "outputs": [
    {
     "name": "stdout",
     "output_type": "stream",
     "text": [
      "<re.Match object; span=(0, 30), match='My Phone number is 17318062050'>\n",
      "My Phone number is 17318062050\n",
      "(0, 30)\n"
     ]
    }
   ],
   "source": [
    "import re\n",
    "text = \"My Phone number is 17318062050,and my email is 1427298682@qq.com.\"\n",
    "regex = '^.*?\\d{11}'\n",
    "result = re.match(regex,text)\n",
    "print(result)\n",
    "print(result.group())\n",
    "print(result.span())"
   ]
  },
  {
   "cell_type": "markdown",
   "metadata": {},
   "source": [
    "查看匹配的结果"
   ]
  },
  {
   "cell_type": "code",
   "execution_count": 4,
   "metadata": {},
   "outputs": [
    {
     "data": {
      "text/plain": [
       "'My Phone number is 17318062050'"
      ]
     },
     "execution_count": 4,
     "metadata": {},
     "output_type": "execute_result"
    }
   ],
   "source": [
    "result.group(0) "
   ]
  },
  {
   "cell_type": "markdown",
   "metadata": {},
   "source": [
    "使用()括号获取匹配结果"
   ]
  },
  {
   "cell_type": "code",
   "execution_count": 6,
   "metadata": {},
   "outputs": [
    {
     "name": "stdout",
     "output_type": "stream",
     "text": [
      "17318062050\n"
     ]
    }
   ],
   "source": [
    "text = \"My Phone number is 17318062050,and my email is 1427298682@qq.com.\"\n",
    "regex = '^.*?(\\d{11})'\n",
    "result = re.match(regex,text)\n",
    "print(result.group(1))"
   ]
  },
  {
   "cell_type": "markdown",
   "metadata": {},
   "source": [
    "## Search()方法"
   ]
  },
  {
   "cell_type": "markdown",
   "metadata": {},
   "source": [
    "search方法可以不从字符串的起始位置开始匹配，下面可以返回匹配结果"
   ]
  },
  {
   "cell_type": "code",
   "execution_count": 7,
   "metadata": {
    "scrolled": true
   },
   "outputs": [
    {
     "name": "stdout",
     "output_type": "stream",
     "text": [
      "<re.Match object; span=(19, 30), match='17318062050'>\n"
     ]
    }
   ],
   "source": [
    "import re\n",
    "text = \"My Phone number is 17318062050,and my email is 1427298682@qq.com.\"\n",
    "regex = '\\d{11}'\n",
    "result = re.search(regex,text)\n",
    "print(result)"
   ]
  },
  {
   "cell_type": "markdown",
   "metadata": {},
   "source": [
    "## 使用compile()生成正则表达式对象"
   ]
  },
  {
   "cell_type": "code",
   "execution_count": 8,
   "metadata": {},
   "outputs": [
    {
     "name": "stdout",
     "output_type": "stream",
     "text": [
      "<re.Match object; span=(19, 30), match='17318062050'>\n"
     ]
    }
   ],
   "source": [
    "import re\n",
    "text = \"My Phone number is 17318062050,and my email is 1427298682@qq.com.\"\n",
    "regex = '\\d{11}'\n",
    "pattern = re.compile(regex)\n",
    "result = re.search(pattern,text)\n",
    "print(result)"
   ]
  }
 ],
 "metadata": {
  "kernelspec": {
   "display_name": "Python 3",
   "language": "python",
   "name": "python3"
  },
  "language_info": {
   "codemirror_mode": {
    "name": "ipython",
    "version": 3
   },
   "file_extension": ".py",
   "mimetype": "text/x-python",
   "name": "python",
   "nbconvert_exporter": "python",
   "pygments_lexer": "ipython3",
   "version": "3.7.4"
  }
 },
 "nbformat": 4,
 "nbformat_minor": 2
}
