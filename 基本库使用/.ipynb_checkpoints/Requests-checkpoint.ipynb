{
 "cells": [
  {
   "cell_type": "markdown",
   "metadata": {},
   "source": [
    "# requests使用"
   ]
  },
  {
   "cell_type": "code",
   "execution_count": 1,
   "metadata": {},
   "outputs": [],
   "source": [
    "import requests"
   ]
  },
  {
   "cell_type": "markdown",
   "metadata": {},
   "source": [
    "## GET请求"
   ]
  },
  {
   "cell_type": "code",
   "execution_count": 2,
   "metadata": {
    "scrolled": true
   },
   "outputs": [
    {
     "name": "stdout",
     "output_type": "stream",
     "text": [
      "ï»¿<!DOCTYPE html>\n",
      "<html xmlns=\"http://www.w3.org/1999/xhtml\">\n",
      "<head>\n",
      "<meta http-equiv=\"Content-Type\" content=\"text/html; charset=utf-8\"/>\n",
      "<meta name=\"viewport\" content=\"width=device-width,user-scalable=0,initial-scale=1,maximum-scale=1, minimum-scale=1\" />\n",
      "<script src=\"/js/jquery.js\" type=\"text/javascript\"></script>\n",
      "<script src=\"/js/jquery.cookie.js\" type=\"text/javascript\"></script>\n",
      "<script src=\"/js/jquery.BlockUI.js\" type=\"text/javascript\"></script>\n",
      "<script src=\"/js/probar2.js\" type=\"text/javascript\" charset=\"utf-8\"></script>\n",
      "<title>ePUBeeçµå­ä¹¦åºï¼æå¤§ççµå­ä¹¦åºï¼å¨çº¿çµå­ä¹¦ç®¡ç </title>\n",
      "<meta name=\"Baiduspider\" content=\"nofollow\" />\n",
      "<meta name=\"Description\" content=\"ePUBeeçµå­ä¹¦åºï¼å",
      "¨çæå¤§çå",
      "è´¹çµå­ä¹¦åºï¼è¶",
      "è¿10ä¸æ¬ä¹¦ç±ï¼50ä¸ä¸ªæä»¶çæ¬ï¼æ»è½æ¾å°ä½ åæ¬¢çéåé",
      "è¯»å¨ççµå­ä¹¦æä»¶ãåç±»é½å",
      "¨ï¼æç´¢åè½å¼ºå¤§ï¼å¾ä¹¦ç®¡çæ¹ä¾¿ãePUBeeæ¯çµå­ä¹¦ç®¡çãä¸è½½ãè½¬æ¢çå¥½å¸®æã\"/>\n",
      "<meta name=\"keywords\" content=\"ePUBeeçµå­ä¹¦åºï¼æå¤§ççµå­ä¹¦åºï¼å¨çº¿çµå­ä¹¦ç®¡ç \"/>\n",
      "<link href=\"/style/onlineconverter.css\" rel=\"stylesheet\" type=\"text/css\"/>\n",
      "<link href=\"/style/epubee.css\" rel=\"stylesheet\" type=\"text/css\"/>\n",
      "<link href=\"/style/books.css\" rel=\"stylesheet\" type=\"text/css\"/>\n",
      "<script src=\"/app_books/identify.js\" type=\"text/javascript\"></script>\n",
      "<script src=\"/js/jquery.cookie.js\" type=\"text/javascript\"></script>\n",
      "<link rel=\"Shortcut Icon\" href=\"/icon.ico\"/>\n",
      "<link rel=\"Bookmark\" href=\"/icon.ico\"/>\n",
      "    <script type=\"text/javascript\">\n",
      "        var localid = GetQueryString(\"localid\");\n",
      "        var sk = \"\";\n",
      "        var action = GetQueryString(\"action\");\n",
      "        sk = decodeURIComponent(GetQueryString(\"s\"));\n",
      "        sk = sk.replace(\"'\", \"\");\n",
      "        //console.log(\"sk:\" + sk.toString());\n",
      "        if (localid.length == 0) { localid = 'no'; }\n",
      "        $(document).ready(function () {\n",
      "            if ((typeof $.cookie(\"identify\") == 'undefined') || (typeof $.cookie(\"kindle_email\") == 'undefined')) {\n",
      "                ajaxGenid(localid);\n",
      "            }\n",
      "            if (sk.length > 0) {\n",
      "                $(\"#SKey\").val(sk);\n",
      "                document.title = sk + ' ä¸è½½';\n",
      "            }\n",
      "            Get_eBook_List_Search(sk, 'ä¿å­å°Cloud ID');\n",
      "            //$(\".title h1\").html($(\".title h1\").html() + \"[ç¦æ­¢åäº«è³äºèç½]\");\n",
      "            if (action == 'addbooks') { $(\".title\").hide(); $(\"#sidebar,#bottom\").hide(); $(\"#left\").css({\"width\":\"100%\"});$(\".pnote\").hide(); } \n",
      "else { //$(\".pnote\").html('æ è®ºä½ è§å¾æ¬ç½ç«æ¯å¦ä¼ç§ï¼è¯·ä¸è¦å°è¯¥ç½ååäº«è³äºèç½ï¼æ¯å¦è®ºåãåå®¢ãèµè®¯ç­ï¼æä¹¦å±ç«é¿ä¸ä½å¨±ä¹èä½ï¼ä¸æ³æå¥å½±åå. ä½ å¯ä»¥èªå·±æ¶èè¯¥ç½åï¼æåè¯æå\"EPUBEE\"ã\"EPUBEEçµå­ä¹¦\"å¥½ç¨å³å¯ï¼è¯·ä¸è¦ä¼ æ­ç½å.'); \n",
      "}\n",
      "\n",
      "        });\n",
      "\n",
      "</script>\n",
      "</head>\n",
      "<body style=\"background-image:url(/style/images/ol_bg.png); background-repeat:repeat-x;\" id=\"online_converter\">\n",
      "<div style=\" background-image:url(/style/images/ol_clouds.png);\" id=\"top_bar_bg\">\n",
      "</div>\n",
      "<div id=\"content\" style=\" background:none; margin-top:0px; margin-bottom:0px; border:none;\">\n",
      "<a class=\"ol_logo\" href=\"/files.aspx\" title=\"å¨çº¿çµå­ä¹¦ç®¡çå¨\">&nbsp;</a>\n",
      "\t<!--Here begins the online converter part-->\n",
      "\t<table class=\"ol_navi\" cellspacing=\"2px\">\n",
      "\t<tr><td style=\"max-width:60px; width:20px;\" class=\"td60\"><a href=\"/files.aspx\" class=\"ol_home\" title=\"çµå­ä¹¦ç®¡çå¨ä¸»é¡µ\">&nbsp;</a></td>\n",
      "\t\t<td>\n",
      "            <div  id = \"SForm\">\n",
      "\t\t        <input id=\"SKey\" type=\"text\" name=\"Key\" value=\"\" placeholder=\"æç´¢ä¹¦å,ä½è",
      ",ASIN\" onchange = \"location.href='?s=' + encodeURIComponent(SKey.value) + '&action=' + action\" />\n",
      "\t\t        <input id=\"SBtn\" type=\"submit\" value=\"æç´¢\"  class=\"buttonn is-blue\" onclick=\"location.href='?s=' + encodeURIComponent(SKey.value) + '&action=' + action\" />\n",
      "            </div>\n",
      "\t\t</td>\n",
      "\t</tr>\n",
      "\t</table>\n",
      "</div>\n",
      "<div class=\"clear\"></div>\n",
      "<!--Here begins the product introduction part-->\n",
      "<div id=\"main\" style=\"margin-top:0px;\">\n",
      "\t\n",
      "\t<div id=\"left\">\n",
      "\t\t<div class=\"topbg\"></div>\n",
      "\t\t<div class=\"l_bg\">\n",
      "\t\t\t<div class=\"title\">\n",
      "\t\t\t\t<h1>ePUBeeçµå­ä¹¦åºï¼æå¤§ççµå­ä¹¦åºï¼å¨çº¿çµå­ä¹¦ç®¡ç </h1>\n",
      "\t\t\t</div>\n",
      "\t\t\t<div class=\"cont\">\n",
      "                    <p class=\"pnote\"><a href=\"/booklistdetail.html\" class=\"buttonn is-blue\" onclick=\"ga('send', {hitType: 'event',eventCategory: 'books',eventAction: 'booklist',eventLabel: 'tobooklist',transport: 'beacon'});\">è¿å",
      "¥ä¹¦åèµ¶ç´§æ¶è</a>\n",
      "                    ä¸æ¬ä¸æ¬çæ·»å çµå­ä¹¦ç¹å°æç´¯ï¼ä¸ç¥éä»ä¹çµå­ä¹¦å¼å¾æ¶èåå­¦ä¹ ï¼<br />\n",
      "                    <b>ä¹¦å</b>åè½æ¥å¦ï¼ç²¾åä¹¦åéç»­ä¸çº¿ï¼ä¸é®æ¹éæ¶èçµå­ä¹¦ã\n",
      "                   </p>\n",
      "            <div id=\"get_ebook_list\"></div>\n",
      "\t\t\t</div>\n",
      "            \n",
      "\t\t</div>\n",
      "\t\t<div class=\"btmbg\"></div>\n",
      "\t</div>\n",
      "\t<div id=\"sidebar\">\n",
      "        <div class=\"title3\">\n",
      "            <h4>äº§åä¸æå¡</h4>\n",
      "    \t</div>\n",
      "        <div style=\"padding-left: 15px; margin-bottom:20px;\">\n",
      "            <div class='DefaultChapterList' id='DefaultChapterList_467'>\r\n",
      "<ul>\r\n",
      "<li><a href='/magic.html'>ePUBeeé­æ¹</a></li>\r\n",
      "<li><a href='/maker.html'>ePUBeeæºå¤æ</a></li>\r\n",
      "<li><a href='/manager.html'>ePUBeeçµå­ä¹¦ç®¡çå¨</a></li>\r\n",
      "<li><a href='/extension.html'>ePUBeeè±ç£æä»¶</a></li>\r\n",
      "<li><a href='/çµå­ä¹¦è½¬æ¢å¨.html'>çµå­ä¹¦è½¬æ¢å¨</a></li>\r\n",
      "<li><a href='/txt-to-epub.html'>TXTè½¬EPUB</a></li>\r\n",
      "<li><a href='/ecore.html'>eCoreçµå­ä¹¦æ ¸å¿</a></li>\r\n",
      "<li><a href='/drm-removal.html'>ePUBee DRM Removal</a></li>\r\n",
      "</ul>\r\n",
      "</div>\r\n",
      "\n",
      "        </div>\n",
      "    \t<div class=\"title3\">\n",
      "     <h4>åæ",
      "é¾æ¥</h4>\n",
      "    \t</div>\n",
      "    \t<div style=\"padding-left: 15px; margin-bottom:20px;\">\n",
      "        \t<a href=\"http://epubee.com\">ePUBee</a><br/>\n",
      "            <a href=\"http://cn.epubee.com\">å°èè</a><br/>\n",
      "            <a href=\"http://cn.epubee.com/reader/\">çµå­ä¹¦å¨çº¿é",
      "è¯»å¨</a><br/>\n",
      "        </div>\n",
      "        \n",
      "\n",
      "\t</div>\n",
      "</div>\n",
      "<!--Here ends the product introduction part-->\n",
      "<div class=\"clear\">\n",
      "</div>\n",
      "<!-- #BeginLibraryItem \"/library/bottom.lbi\" -->\n",
      "<div id=\"bottom\">\n",
      "  <div class=\"wrap\">\n",
      "    <div class=\"footer\">\n",
      "      <div class=\"copyright\">çæææ &copy; 2011-2019 <a href=\"http://cn.epubee.com\">cn.epubee.com</a>. éICPå¤13009596å·-1</div>\n",
      "      <div class=\"link\"><a href=\"http://www.epubee.com/\">ePUBee</a> | <a href=\"http://cn.epubee.com\">å¨çº¿çµå­ä¹¦è½¬æ¢</a> | <a href=\"/å",
      "³äºæä»¬.html\">å",
      "³äºæä»¬</a></div>\n",
      "      <div class=\"clear\"></div>\n",
      "    </div>\n",
      "\t\n",
      "  </div>\n",
      "</div><!-- #EndLibraryItem -->\n",
      "<script>\n",
      "    var _hmt = _hmt || [];\n",
      "    (function () {\n",
      "        var hm = document.createElement(\"script\");\n",
      "        hm.src = \"//hm.baidu.com/hm.js?c1d52ae305ab701945e4c416b6cad0d5\";\n",
      "        var s = document.getElementsByTagName(\"script\")[0];\n",
      "        s.parentNode.insertBefore(hm, s);\n",
      "    })();\n",
      "</script>\n",
      "<script>\n",
      "    (function (i, s, o, g, r, a, m) {\n",
      "        i['GoogleAnalyticsObject'] = r; i[r] = i[r] || function () {\n",
      "            (i[r].q = i[r].q || []).push(arguments)\n",
      "        }, i[r].l = 1 * new Date(); a = s.createElement(o),\n",
      "  m = s.getElementsByTagName(o)[0]; a.async = 1; a.src = g; m.parentNode.insertBefore(a, m)\n",
      "    })(window, document, 'script', '//www.google-analytics.com/analytics.js', 'ga');\n",
      "\n",
      "    ga('create', 'UA-73011249-1', 'auto');\n",
      "    ga('send', 'pageview');\n",
      "\n",
      "</script>\n",
      "</body>\n",
      "</html>\n",
      "\n"
     ]
    }
   ],
   "source": [
    "data = {\n",
    "    's':'python3'\n",
    "}\n",
    "headers = {\n",
    "    'user-agent':'Opera/9.80 (Windows NT 6.0) Presto/2.12.388 Version/12.14'\n",
    "    \n",
    "}\n",
    "r = requests.get('http://cn.epubee.com/books/',params=data,headers=headers)\n",
    "print(r.text)"
   ]
  },
  {
   "cell_type": "markdown",
   "metadata": {},
   "source": [
    "发现上述出现乱码，下面输出编码"
   ]
  },
  {
   "cell_type": "code",
   "execution_count": 5,
   "metadata": {
    "scrolled": false
   },
   "outputs": [
    {
     "data": {
      "text/plain": [
       "'ISO-8859-1'"
      ]
     },
     "execution_count": 5,
     "metadata": {},
     "output_type": "execute_result"
    }
   ],
   "source": [
    "r.encoding"
   ]
  },
  {
   "cell_type": "markdown",
   "metadata": {},
   "source": [
    "转化为UTF-8"
   ]
  },
  {
   "cell_type": "code",
   "execution_count": 6,
   "metadata": {},
   "outputs": [],
   "source": [
    "r.encoding = 'utf-8'"
   ]
  },
  {
   "cell_type": "code",
   "execution_count": 7,
   "metadata": {
    "scrolled": true
   },
   "outputs": [
    {
     "data": {
      "text/plain": [
       "'\\ufeff<!DOCTYPE html>\\n<html xmlns=\"http://www.w3.org/1999/xhtml\">\\n<head>\\n<meta http-equiv=\"Content-Type\" content=\"text/html; charset=utf-8\"/>\\n<meta name=\"viewport\" content=\"width=device-width,user-scalable=0,initial-scale=1,maximum-scale=1, minimum-scale=1\" />\\n<script src=\"/js/jquery.js\" type=\"text/javascript\"></script>\\n<script src=\"/js/jquery.cookie.js\" type=\"text/javascript\"></script>\\n<script src=\"/js/jquery.BlockUI.js\" type=\"text/javascript\"></script>\\n<script src=\"/js/probar2.js\" type=\"text/javascript\" charset=\"utf-8\"></script>\\n<title>ePUBee电子书库，最大的电子书库，在线电子书管理 </title>\\n<meta name=\"Baiduspider\" content=\"nofollow\" />\\n<meta name=\"Description\" content=\"ePUBee电子书库，全球最大的免费电子书库，超过10万本书籍，50万个文件版本，总能找到你喜欢的适合阅读器的电子书文件。品类齐全，搜索功能强大，图书管理方便。ePUBee是电子书管理、下载、转换的好帮手。\"/>\\n<meta name=\"keywords\" content=\"ePUBee电子书库，最大的电子书库，在线电子书管理 \"/>\\n<link href=\"/style/onlineconverter.css\" rel=\"stylesheet\" type=\"text/css\"/>\\n<link href=\"/style/epubee.css\" rel=\"stylesheet\" type=\"text/css\"/>\\n<link href=\"/style/books.css\" rel=\"stylesheet\" type=\"text/css\"/>\\n<script src=\"/app_books/identify.js\" type=\"text/javascript\"></script>\\n<script src=\"/js/jquery.cookie.js\" type=\"text/javascript\"></script>\\n<link rel=\"Shortcut Icon\" href=\"/icon.ico\"/>\\n<link rel=\"Bookmark\" href=\"/icon.ico\"/>\\n    <script type=\"text/javascript\">\\n        var localid = GetQueryString(\"localid\");\\n        var sk = \"\";\\n        var action = GetQueryString(\"action\");\\n        sk = decodeURIComponent(GetQueryString(\"s\"));\\n        sk = sk.replace(\"\\'\", \"\");\\n        //console.log(\"sk:\" + sk.toString());\\n        if (localid.length == 0) { localid = \\'no\\'; }\\n        $(document).ready(function () {\\n            if ((typeof $.cookie(\"identify\") == \\'undefined\\') || (typeof $.cookie(\"kindle_email\") == \\'undefined\\')) {\\n                ajaxGenid(localid);\\n            }\\n            if (sk.length > 0) {\\n                $(\"#SKey\").val(sk);\\n                document.title = sk + \\' 下载\\';\\n            }\\n            Get_eBook_List_Search(sk, \\'保存到Cloud ID\\');\\n            //$(\".title h1\").html($(\".title h1\").html() + \"[禁止分享至互联网]\");\\n            if (action == \\'addbooks\\') { $(\".title\").hide(); $(\"#sidebar,#bottom\").hide(); $(\"#left\").css({\"width\":\"100%\"});$(\".pnote\").hide(); } \\nelse { //$(\".pnote\").html(\\'无论你觉得本网站是否优秀，请不要将该网址分享至互联网，比如论坛、博客、资讯等，搜书属站长业余娱乐而作，不想有啥影响力. 你可以自己收藏该网址，或告诉朋友\"EPUBEE\"、\"EPUBEE电子书\"好用即可，请不要传播网址.\\'); \\n}\\n\\n        });\\n\\n</script>\\n</head>\\n<body style=\"background-image:url(/style/images/ol_bg.png); background-repeat:repeat-x;\" id=\"online_converter\">\\n<div style=\" background-image:url(/style/images/ol_clouds.png);\" id=\"top_bar_bg\">\\n</div>\\n<div id=\"content\" style=\" background:none; margin-top:0px; margin-bottom:0px; border:none;\">\\n<a class=\"ol_logo\" href=\"/files.aspx\" title=\"在线电子书管理器\">&nbsp;</a>\\n\\t<!--Here begins the online converter part-->\\n\\t<table class=\"ol_navi\" cellspacing=\"2px\">\\n\\t<tr><td style=\"max-width:60px; width:20px;\" class=\"td60\"><a href=\"/files.aspx\" class=\"ol_home\" title=\"电子书管理器主页\">&nbsp;</a></td>\\n\\t\\t<td>\\n            <div  id = \"SForm\">\\n\\t\\t        <input id=\"SKey\" type=\"text\" name=\"Key\" value=\"\" placeholder=\"搜索书名,作者,ASIN\" onchange = \"location.href=\\'?s=\\' + encodeURIComponent(SKey.value) + \\'&action=\\' + action\" />\\n\\t\\t        <input id=\"SBtn\" type=\"submit\" value=\"搜索\"  class=\"buttonn is-blue\" onclick=\"location.href=\\'?s=\\' + encodeURIComponent(SKey.value) + \\'&action=\\' + action\" />\\n            </div>\\n\\t\\t</td>\\n\\t</tr>\\n\\t</table>\\n</div>\\n<div class=\"clear\"></div>\\n<!--Here begins the product introduction part-->\\n<div id=\"main\" style=\"margin-top:0px;\">\\n\\t\\n\\t<div id=\"left\">\\n\\t\\t<div class=\"topbg\"></div>\\n\\t\\t<div class=\"l_bg\">\\n\\t\\t\\t<div class=\"title\">\\n\\t\\t\\t\\t<h1>ePUBee电子书库，最大的电子书库，在线电子书管理 </h1>\\n\\t\\t\\t</div>\\n\\t\\t\\t<div class=\"cont\">\\n                    <p class=\"pnote\"><a href=\"/booklistdetail.html\" class=\"buttonn is-blue\" onclick=\"ga(\\'send\\', {hitType: \\'event\\',eventCategory: \\'books\\',eventAction: \\'booklist\\',eventLabel: \\'tobooklist\\',transport: \\'beacon\\'});\">进入书单赶紧收藏</a>\\n                    一本一本的添加电子书点到手累？不知道什么电子书值得收藏和学习？<br />\\n                    <b>书单</b>功能来啦！精品书单陆续上线，一键批量收藏电子书。\\n                   </p>\\n            <div id=\"get_ebook_list\"></div>\\n\\t\\t\\t</div>\\n            \\n\\t\\t</div>\\n\\t\\t<div class=\"btmbg\"></div>\\n\\t</div>\\n\\t<div id=\"sidebar\">\\n        <div class=\"title3\">\\n            <h4>产品与服务</h4>\\n    \\t</div>\\n        <div style=\"padding-left: 15px; margin-bottom:20px;\">\\n            <div class=\\'DefaultChapterList\\' id=\\'DefaultChapterList_467\\'>\\r\\n<ul>\\r\\n<li><a href=\\'/magic.html\\'>ePUBee魔方</a></li>\\r\\n<li><a href=\\'/maker.html\\'>ePUBee智多星</a></li>\\r\\n<li><a href=\\'/manager.html\\'>ePUBee电子书管理器</a></li>\\r\\n<li><a href=\\'/extension.html\\'>ePUBee豆瓣插件</a></li>\\r\\n<li><a href=\\'/电子书转换器.html\\'>电子书转换器</a></li>\\r\\n<li><a href=\\'/txt-to-epub.html\\'>TXT转EPUB</a></li>\\r\\n<li><a href=\\'/ecore.html\\'>eCore电子书核心</a></li>\\r\\n<li><a href=\\'/drm-removal.html\\'>ePUBee DRM Removal</a></li>\\r\\n</ul>\\r\\n</div>\\r\\n\\n        </div>\\n    \\t<div class=\"title3\">\\n     <h4>友情链接</h4>\\n    \\t</div>\\n    \\t<div style=\"padding-left: 15px; margin-bottom:20px;\">\\n        \\t<a href=\"http://epubee.com\">ePUBee</a><br/>\\n            <a href=\"http://cn.epubee.com\">小蜜蜂</a><br/>\\n            <a href=\"http://cn.epubee.com/reader/\">电子书在线阅读器</a><br/>\\n        </div>\\n        \\n\\n\\t</div>\\n</div>\\n<!--Here ends the product introduction part-->\\n<div class=\"clear\">\\n</div>\\n<!-- #BeginLibraryItem \"/library/bottom.lbi\" -->\\n<div id=\"bottom\">\\n  <div class=\"wrap\">\\n    <div class=\"footer\">\\n      <div class=\"copyright\">版权所有 &copy; 2011-2019 <a href=\"http://cn.epubee.com\">cn.epubee.com</a>. 鄂ICP备13009596号-1</div>\\n      <div class=\"link\"><a href=\"http://www.epubee.com/\">ePUBee</a> | <a href=\"http://cn.epubee.com\">在线电子书转换</a> | <a href=\"/关于我们.html\">关于我们</a></div>\\n      <div class=\"clear\"></div>\\n    </div>\\n\\t\\n  </div>\\n</div><!-- #EndLibraryItem -->\\n<script>\\n    var _hmt = _hmt || [];\\n    (function () {\\n        var hm = document.createElement(\"script\");\\n        hm.src = \"//hm.baidu.com/hm.js?c1d52ae305ab701945e4c416b6cad0d5\";\\n        var s = document.getElementsByTagName(\"script\")[0];\\n        s.parentNode.insertBefore(hm, s);\\n    })();\\n</script>\\n<script>\\n    (function (i, s, o, g, r, a, m) {\\n        i[\\'GoogleAnalyticsObject\\'] = r; i[r] = i[r] || function () {\\n            (i[r].q = i[r].q || []).push(arguments)\\n        }, i[r].l = 1 * new Date(); a = s.createElement(o),\\n  m = s.getElementsByTagName(o)[0]; a.async = 1; a.src = g; m.parentNode.insertBefore(a, m)\\n    })(window, document, \\'script\\', \\'//www.google-analytics.com/analytics.js\\', \\'ga\\');\\n\\n    ga(\\'create\\', \\'UA-73011249-1\\', \\'auto\\');\\n    ga(\\'send\\', \\'pageview\\');\\n\\n</script>\\n</body>\\n</html>\\n'"
      ]
     },
     "execution_count": 7,
     "metadata": {},
     "output_type": "execute_result"
    }
   ],
   "source": [
    "r.text"
   ]
  },
  {
   "cell_type": "markdown",
   "metadata": {},
   "source": [
    "类型和响应码"
   ]
  },
  {
   "cell_type": "code",
   "execution_count": 8,
   "metadata": {
    "scrolled": true
   },
   "outputs": [
    {
     "data": {
      "text/plain": [
       "(requests.models.Response, 200)"
      ]
     },
     "execution_count": 8,
     "metadata": {},
     "output_type": "execute_result"
    }
   ],
   "source": [
    "type(r),r.status_code"
   ]
  },
  {
   "cell_type": "markdown",
   "metadata": {},
   "source": []
  },
  {
   "cell_type": "code",
   "execution_count": 9,
   "metadata": {},
   "outputs": [
    {
     "data": {
      "text/plain": [
       "<RequestsCookieJar[]>"
      ]
     },
     "execution_count": 9,
     "metadata": {},
     "output_type": "execute_result"
    }
   ],
   "source": [
    "r.cookies"
   ]
  },
  {
   "cell_type": "code",
   "execution_count": null,
   "metadata": {},
   "outputs": [],
   "source": []
  }
 ],
 "metadata": {
  "kernelspec": {
   "display_name": "Python 3",
   "language": "python",
   "name": "python3"
  },
  "language_info": {
   "codemirror_mode": {
    "name": "ipython",
    "version": 3
   },
   "file_extension": ".py",
   "mimetype": "text/x-python",
   "name": "python",
   "nbconvert_exporter": "python",
   "pygments_lexer": "ipython3",
   "version": "3.7.4"
  }
 },
 "nbformat": 4,
 "nbformat_minor": 2
}
