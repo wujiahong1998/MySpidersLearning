{
 "cells": [
  {
   "cell_type": "markdown",
   "metadata": {},
   "source": [
    "# requests使用"
   ]
  },
  {
   "cell_type": "code",
   "execution_count": 1,
   "metadata": {},
   "outputs": [],
   "source": [
    "import requests"
   ]
  },
  {
   "cell_type": "markdown",
   "metadata": {},
   "source": [
    "## GET请求"
   ]
  },
  {
   "cell_type": "code",
   "execution_count": 2,
   "metadata": {
    "scrolled": true
   },
   "outputs": [
    {
     "name": "stdout",
     "output_type": "stream",
     "text": [
      "ï»¿<!DOCTYPE html>\n",
      "<html xmlns=\"http://www.w3.org/\n"
     ]
    }
   ],
   "source": [
    "data = {\n",
    "    's':'python3'\n",
    "}\n",
    "headers = {\n",
    "    'user-agent':'Opera/9.80 (Windows NT 6.0) Presto/2.12.388 Version/12.14'\n",
    "    \n",
    "}\n",
    "r = requests.get('http://cn.epubee.com/books/',params=data,headers=headers)\n",
    "print(r.text[:50])"
   ]
  },
  {
   "cell_type": "markdown",
   "metadata": {},
   "source": [
    "发现上述出现乱码，下面输出编码"
   ]
  },
  {
   "cell_type": "code",
   "execution_count": 3,
   "metadata": {
    "scrolled": false
   },
   "outputs": [
    {
     "data": {
      "text/plain": [
       "'ISO-8859-1'"
      ]
     },
     "execution_count": 3,
     "metadata": {},
     "output_type": "execute_result"
    }
   ],
   "source": [
    "r.encoding"
   ]
  },
  {
   "cell_type": "markdown",
   "metadata": {},
   "source": [
    "转化为UTF-8"
   ]
  },
  {
   "cell_type": "code",
   "execution_count": 4,
   "metadata": {},
   "outputs": [],
   "source": [
    "r.encoding = 'utf-8'"
   ]
  },
  {
   "cell_type": "markdown",
   "metadata": {},
   "source": [
    "重新输出"
   ]
  },
  {
   "cell_type": "code",
   "execution_count": 5,
   "metadata": {
    "scrolled": true
   },
   "outputs": [
    {
     "data": {
      "text/plain": [
       "'\\ufeff<!DOCTYPE html>\\n<html xmlns=\"http://www.w3.org/1999/xhtml\">\\n<head>\\n<meta http-equiv=\"Content-Type\" '"
      ]
     },
     "execution_count": 5,
     "metadata": {},
     "output_type": "execute_result"
    }
   ],
   "source": [
    "r.text[:100]"
   ]
  },
  {
   "cell_type": "markdown",
   "metadata": {},
   "source": [
    "类型和响应码以及Cookies"
   ]
  },
  {
   "cell_type": "code",
   "execution_count": 6,
   "metadata": {
    "scrolled": false
   },
   "outputs": [
    {
     "data": {
      "text/plain": [
       "(requests.models.Response, 200, <RequestsCookieJar[]>)"
      ]
     },
     "execution_count": 6,
     "metadata": {},
     "output_type": "execute_result"
    }
   ],
   "source": [
    "type(r),r.status_code,r.cookies"
   ]
  },
  {
   "cell_type": "markdown",
   "metadata": {},
   "source": [
    "## 抓取知乎发现页面"
   ]
  },
  {
   "cell_type": "markdown",
   "metadata": {},
   "source": [
    "设置请求头并且获取网页数据"
   ]
  },
  {
   "cell_type": "code",
   "execution_count": 10,
   "metadata": {},
   "outputs": [
    {
     "name": "stdout",
     "output_type": "stream",
     "text": [
      "<!doctype html>\n",
      "<html lang=\"zh\" data-hairline=\"true\" data-theme=\"light\"><head><meta charSet=\"utf-8\"/><title data-react-helmet=\"true\">首页 - 知乎</title><meta name=\"viewport\" content=\"width=device-width,initial-scale=1,maximum-scale=1\"/><meta name=\"renderer\" content=\"webkit\"/><meta name=\"force-rendering\" content=\"webkit\"/><meta http-equiv=\"X-UA-Compatible\" content=\"IE=edge,chrome=1\"/><meta name=\"google-site-verification\" content=\"FTeR0c8arOPKh8c5DYh_9uu98_zJbaWw53J-Sch9MTg\"/><meta name=\"description\" property=\"og:description\" content=\"有问题，上知乎。知乎，可信赖的问答社区，以让每个人高效获得可信赖的解答为使命。知乎凭借认真、专业和友善的社区氛围，结构化、易获得的优质内容，基于问答的内容生产方式和独特的社区机制，吸引、聚集了各行各业中大量的亲历者、内行人、领域专家、领域爱好者，将高质量的内容透过人的节点来成规模地生产和分享。用户通过问答等交流方式建立信任和连接，打造和提升个人影响力，并发现、获得新机会。\"/><link data-react-helmet=\"true\" rel=\"apple-touch-icon\" href=\"https://static.zhihu.com/heifetz/assets/apple-touch-icon-152.67c7b278.png\"/><link data-react-helmet=\"true\" rel=\"apple-touch-icon\" href=\"https://static.zhihu.com/heifetz/assets/apple-touch-icon-152.67c7b278.png\" size...\n"
     ]
    }
   ],
   "source": [
    "import requests\n",
    "headers = {\n",
    "    'user-agent':'Opera/9.80 (Windows NT 6.0) Presto/2.12.388 Version/12.14',\n",
    "    'Cookie':'_zap=0e494486-7b1d-49c1-b422-8ca12cb78a64; d_c0=\"AFAY8PstpBCPTjY_QcAZsYq5pzbozU3oicQ=|1578675815\"; _xsrf=tGkekz1w7jqgQXIM728Wh5UAyzNma6q8; capsion_ticket=\"2|1:0|10:1579361278|14:capsion_ticket|44:YjdkYTI0YzhjY2FkNDU4YTgyOTc5M2NkZDhhMjlkMWU=|5c65b00f851c15e4db0b785174ec44edb7a39dbb263d5020fb2ce4f5ad7cd0f8\"; Hm_lvt_98beee57fd2ef70ccdd5ca52b9740c49=1579154350,1579190501,1579356116,1579361278; l_n_c=1; r_cap_id=\"OTY1ZGU0NzM5OTUzNDczN2IzNWQ2NWY3YmI5MDBjZjA=|1579361280|8b01bbdb53a45bf7eaaa63d89515d99f20fbbaff\"; cap_id=\"ODU1ZjgzZTI5YTRiNDAwZmIyZTNmY2NmN2JiMDgyMWM=|1579361280|d58acd5ba32aa92cec6cc46974cbe504e1e358e8\"; l_cap_id=\"ZDNmOGQ4YTZiMWQ2NDU2ZDhmNGM5YzY2NThiMzNjYjk=|1579361280|cf77e41085a601d9b41267ba12ed01309d60b506\"; n_c=1; z_c0=Mi4xY1ctTEFnQUFBQUFBVUJqdy15MmtFQmNBQUFCaEFsVk5EbklRWHdBeUUwQjNpcmlpUC02MDhUSWtVQkRFTXl1cXN3|1579361294|ef64ed49cd12b4ce9a1c51920bbc68e20a5b7a95; Hm_lpvt_98beee57fd2ef70ccdd5ca52b9740c49=1579361297; tst=r; KLBRSID=9d75f80756f65c61b0a50d80b4ca9b13|1579361297|1579356114',\n",
    "    'Host':'www.zhihu.com'\n",
    "}\n",
    "r = requests.get(\"https://www.zhihu.com\",headers=headers)\n",
    "print(r.text[:1000]+'...')"
   ]
  },
  {
   "cell_type": "markdown",
   "metadata": {},
   "source": [
    "写文件到本地"
   ]
  },
  {
   "cell_type": "code",
   "execution_count": 11,
   "metadata": {},
   "outputs": [],
   "source": [
    "with open('zhihu.html','w',encoding='utf-8') as f:\n",
    "    f.write(r.text)"
   ]
  },
  {
   "cell_type": "markdown",
   "metadata": {},
   "source": [
    "使用Session"
   ]
  },
  {
   "cell_type": "code",
   "execution_count": 36,
   "metadata": {
    "scrolled": true
   },
   "outputs": [
    {
     "name": "stdout",
     "output_type": "stream",
     "text": [
      "yes!\n"
     ]
    }
   ],
   "source": [
    "import requests\n",
    "headers = {\n",
    "    'user-agent':'Opera/9.80 (Windows NT 6.0) Presto/2.12.388 Version/12.14',\n",
    "    'Cookie':'_zap=0e494486-7b1d-49c1-b422-8ca12cb78a64; d_c0=\"AFAY8PstpBCPTjY_QcAZsYq5pzbozU3oicQ=|1578675815\"; _xsrf=tGkekz1w7jqgQXIM728Wh5UAyzNma6q8; capsion_ticket=\"2|1:0|10:1579361278|14:capsion_ticket|44:YjdkYTI0YzhjY2FkNDU4YTgyOTc5M2NkZDhhMjlkMWU=|5c65b00f851c15e4db0b785174ec44edb7a39dbb263d5020fb2ce4f5ad7cd0f8\"; Hm_lvt_98beee57fd2ef70ccdd5ca52b9740c49=1579154350,1579190501,1579356116,1579361278; l_n_c=1; r_cap_id=\"OTY1ZGU0NzM5OTUzNDczN2IzNWQ2NWY3YmI5MDBjZjA=|1579361280|8b01bbdb53a45bf7eaaa63d89515d99f20fbbaff\"; cap_id=\"ODU1ZjgzZTI5YTRiNDAwZmIyZTNmY2NmN2JiMDgyMWM=|1579361280|d58acd5ba32aa92cec6cc46974cbe504e1e358e8\"; l_cap_id=\"ZDNmOGQ4YTZiMWQ2NDU2ZDhmNGM5YzY2NThiMzNjYjk=|1579361280|cf77e41085a601d9b41267ba12ed01309d60b506\"; n_c=1; z_c0=Mi4xY1ctTEFnQUFBQUFBVUJqdy15MmtFQmNBQUFCaEFsVk5EbklRWHdBeUUwQjNpcmlpUC02MDhUSWtVQkRFTXl1cXN3|1579361294|ef64ed49cd12b4ce9a1c51920bbc68e20a5b7a95; Hm_lpvt_98beee57fd2ef70ccdd5ca52b9740c49=1579361297; tst=r; KLBRSID=9d75f80756f65c61b0a50d80b4ca9b13|1579361297|1579356114',\n",
    "    'Host':'www.zhihu.com'\n",
    "}\n",
    "\n",
    "s = requests.Session() #使用Session对象\n",
    "r1 = s.get(\"https://www.zhihu.com/explore\",headers=headers)\n",
    "r2 = s.get(\"https://www.zhihu.com/explore\",headers=headers)\n",
    "if(r1.cookies == r2.cookies):\n",
    "    print(\"yes!\")"
   ]
  },
  {
   "cell_type": "markdown",
   "metadata": {},
   "source": [
    "查看Cookie"
   ]
  },
  {
   "cell_type": "code",
   "execution_count": 34,
   "metadata": {
    "scrolled": true
   },
   "outputs": [
    {
     "data": {
      "text/plain": [
       "<RequestsCookieJar[Cookie(version=0, name='KLBRSID', value='9d75f80756f65c61b0a50d80b4ca9b13|1579363205|1579356114', port=None, port_specified=False, domain='www.zhihu.com', domain_specified=False, domain_initial_dot=False, path='/', path_specified=True, secure=False, expires=None, discard=True, comment=None, comment_url=None, rest={}, rfc2109=False)]>"
      ]
     },
     "execution_count": 34,
     "metadata": {},
     "output_type": "execute_result"
    }
   ],
   "source": [
    "r.cookies"
   ]
  },
  {
   "cell_type": "markdown",
   "metadata": {},
   "source": [
    "模拟Github登陆"
   ]
  },
  {
   "cell_type": "code",
   "execution_count": 39,
   "metadata": {
    "scrolled": true
   },
   "outputs": [
    {
     "data": {
      "text/plain": [
       "<Response [200]>"
      ]
     },
     "execution_count": 39,
     "metadata": {},
     "output_type": "execute_result"
    }
   ],
   "source": [
    "import requests\n",
    "from requests.auth import HTTPBasicAuth\n",
    "requests.get('https://api.github.com/user',auth=HTTPBasicAuth('wujiahong1998','WJHwjh19981022'))"
   ]
  },
  {
   "cell_type": "markdown",
   "metadata": {},
   "source": [
    "或者"
   ]
  },
  {
   "cell_type": "code",
   "execution_count": 40,
   "metadata": {
    "scrolled": true
   },
   "outputs": [
    {
     "data": {
      "text/plain": [
       "<Response [200]>"
      ]
     },
     "execution_count": 40,
     "metadata": {},
     "output_type": "execute_result"
    }
   ],
   "source": [
    "requests.get('https://api.github.com/user',auth=('wujiahong1998','WJHwjh19981022'))"
   ]
  },
  {
   "cell_type": "code",
   "execution_count": 44,
   "metadata": {},
   "outputs": [
    {
     "data": {
      "text/plain": [
       "200"
      ]
     },
     "execution_count": 44,
     "metadata": {},
     "output_type": "execute_result"
    }
   ],
   "source": [
    "from requests import Session,Request\n",
    "headers = {\n",
    "    'user-agent':'Opera/9.80 (Windows NT 6.0) Presto/2.12.388 Version/12.14',\n",
    "    'Cookie':'_zap=0e494486-7b1d-49c1-b422-8ca12cb78a64; d_c0=\"AFAY8PstpBCPTjY_QcAZsYq5pzbozU3oicQ=|1578675815\"; _xsrf=tGkekz1w7jqgQXIM728Wh5UAyzNma6q8; capsion_ticket=\"2|1:0|10:1579361278|14:capsion_ticket|44:YjdkYTI0YzhjY2FkNDU4YTgyOTc5M2NkZDhhMjlkMWU=|5c65b00f851c15e4db0b785174ec44edb7a39dbb263d5020fb2ce4f5ad7cd0f8\"; Hm_lvt_98beee57fd2ef70ccdd5ca52b9740c49=1579154350,1579190501,1579356116,1579361278; l_n_c=1; r_cap_id=\"OTY1ZGU0NzM5OTUzNDczN2IzNWQ2NWY3YmI5MDBjZjA=|1579361280|8b01bbdb53a45bf7eaaa63d89515d99f20fbbaff\"; cap_id=\"ODU1ZjgzZTI5YTRiNDAwZmIyZTNmY2NmN2JiMDgyMWM=|1579361280|d58acd5ba32aa92cec6cc46974cbe504e1e358e8\"; l_cap_id=\"ZDNmOGQ4YTZiMWQ2NDU2ZDhmNGM5YzY2NThiMzNjYjk=|1579361280|cf77e41085a601d9b41267ba12ed01309d60b506\"; n_c=1; z_c0=Mi4xY1ctTEFnQUFBQUFBVUJqdy15MmtFQmNBQUFCaEFsVk5EbklRWHdBeUUwQjNpcmlpUC02MDhUSWtVQkRFTXl1cXN3|1579361294|ef64ed49cd12b4ce9a1c51920bbc68e20a5b7a95; Hm_lpvt_98beee57fd2ef70ccdd5ca52b9740c49=1579361297; tst=r; KLBRSID=9d75f80756f65c61b0a50d80b4ca9b13|1579361297|1579356114',\n",
    "    'Host':'www.zhihu.com'\n",
    "}\n",
    "url = 'https://www.zhihu.com'\n",
    "s = Session()\n",
    "req = Request('GET',url,headers=headers)\n",
    "prepped = s.prepare_request(req)\n",
    "r = s.send(prepped)\n",
    "r.status_code"
   ]
  }
 ],
 "metadata": {
  "kernelspec": {
   "display_name": "Python 3",
   "language": "python",
   "name": "python3"
  },
  "language_info": {
   "codemirror_mode": {
    "name": "ipython",
    "version": 3
   },
   "file_extension": ".py",
   "mimetype": "text/x-python",
   "name": "python",
   "nbconvert_exporter": "python",
   "pygments_lexer": "ipython3",
   "version": "3.7.4"
  }
 },
 "nbformat": 4,
 "nbformat_minor": 2
}
