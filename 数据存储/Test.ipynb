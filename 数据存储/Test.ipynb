{
 "cells": [
  {
   "cell_type": "markdown",
   "metadata": {},
   "source": [
    "# 使用python操作数据库"
   ]
  },
  {
   "cell_type": "markdown",
   "metadata": {},
   "source": [
    "## 首先导入必要的包"
   ]
  },
  {
   "cell_type": "code",
   "execution_count": 6,
   "metadata": {},
   "outputs": [],
   "source": [
    "import requests\n",
    "import pymysql"
   ]
  },
  {
   "cell_type": "markdown",
   "metadata": {},
   "source": [
    "## 连接数据库"
   ]
  },
  {
   "cell_type": "code",
   "execution_count": 7,
   "metadata": {
    "scrolled": false
   },
   "outputs": [],
   "source": [
    "db = pymysql.connect(host='localhost',user='root',password='19981022',port=3306)"
   ]
  },
  {
   "cell_type": "markdown",
   "metadata": {},
   "source": [
    "查看数据库的版本"
   ]
  },
  {
   "cell_type": "code",
   "execution_count": 10,
   "metadata": {
    "scrolled": true
   },
   "outputs": [
    {
     "name": "stdout",
     "output_type": "stream",
     "text": [
      "MySQL version: ('8.0.11',)\n"
     ]
    }
   ],
   "source": [
    "# cursor 获取mysql的操作光标,之后就是利用cursor对数据库进行操作\n",
    "cursor = db.cursor()\n",
    "cursor.execute('select version()') #使用execute执行操作代码，不用加分号，系统自动添加\n",
    "# fetch 使用它来获取操作后得到的信息\n",
    "message = cursor.fetchone()\n",
    "print('MySQL version:',message)"
   ]
  },
  {
   "cell_type": "markdown",
   "metadata": {},
   "source": [
    "关闭数据库"
   ]
  },
  {
   "cell_type": "code",
   "execution_count": 11,
   "metadata": {},
   "outputs": [],
   "source": [
    "db.close()"
   ]
  },
  {
   "cell_type": "markdown",
   "metadata": {},
   "source": [
    "## 创建数据库"
   ]
  },
  {
   "cell_type": "code",
   "execution_count": 13,
   "metadata": {},
   "outputs": [],
   "source": [
    "myDB = pymysql.connect(host='localhost',user='root',password='19981022',port=3306)\n",
    "cursor = myDB.cursor()"
   ]
  },
  {
   "cell_type": "code",
   "execution_count": 14,
   "metadata": {
    "scrolled": true
   },
   "outputs": [
    {
     "name": "stdout",
     "output_type": "stream",
     "text": [
      "None\n"
     ]
    }
   ],
   "source": [
    "cursor.execute('create database test')\n",
    "message = cursor.fetchone()\n",
    "print(message)"
   ]
  },
  {
   "cell_type": "code",
   "execution_count": 16,
   "metadata": {},
   "outputs": [
    {
     "name": "stdout",
     "output_type": "stream",
     "text": [
      "(('information_schema',), ('mysql',), ('performance_schema',), ('spiders',), ('sys',), ('test',))\n"
     ]
    }
   ],
   "source": [
    "cursor.execute('show databases')\n",
    "print(cursor.fetchall())"
   ]
  },
  {
   "cell_type": "markdown",
   "metadata": {},
   "source": [
    "## 删除数据库"
   ]
  },
  {
   "cell_type": "code",
   "execution_count": 17,
   "metadata": {
    "scrolled": true
   },
   "outputs": [
    {
     "name": "stdout",
     "output_type": "stream",
     "text": [
      "()\n"
     ]
    }
   ],
   "source": [
    "cursor.execute('drop database test')\n",
    "message = cursor.fetchall()\n",
    "print(message)"
   ]
  },
  {
   "cell_type": "code",
   "execution_count": 18,
   "metadata": {
    "scrolled": false
   },
   "outputs": [
    {
     "name": "stdout",
     "output_type": "stream",
     "text": [
      "(('information_schema',), ('mysql',), ('performance_schema',), ('spiders',), ('sys',))\n"
     ]
    }
   ],
   "source": [
    "cursor.execute('show databases')\n",
    "message = cursor.fetchall()\n",
    "print(message)"
   ]
  },
  {
   "cell_type": "markdown",
   "metadata": {},
   "source": [
    "需要注意：\n",
    "    \n",
    "    information_schema：主要存储了系统中的一些数据库对象信息，比如用户表信息、列信息、权限信息、字符集信息、分区信息等。\n",
    "\n",
    "    cluster：存储了系统的集群信息。\n",
    "\n",
    "    mysql：存储了系统的用户权限信息。"
   ]
  },
  {
   "cell_type": "markdown",
   "metadata": {},
   "source": [
    "## 使用数据库"
   ]
  },
  {
   "cell_type": "markdown",
   "metadata": {},
   "source": [
    "查看数据库中有什么表"
   ]
  },
  {
   "cell_type": "code",
   "execution_count": 19,
   "metadata": {
    "scrolled": true
   },
   "outputs": [
    {
     "data": {
      "text/plain": [
       "(('columns_priv',),\n",
       " ('component',),\n",
       " ('db',),\n",
       " ('default_roles',),\n",
       " ('engine_cost',),\n",
       " ('func',),\n",
       " ('general_log',),\n",
       " ('global_grants',),\n",
       " ('gtid_executed',),\n",
       " ('help_category',),\n",
       " ('help_keyword',),\n",
       " ('help_relation',),\n",
       " ('help_topic',),\n",
       " ('innodb_index_stats',),\n",
       " ('innodb_table_stats',),\n",
       " ('password_history',),\n",
       " ('plugin',),\n",
       " ('procs_priv',),\n",
       " ('proxies_priv',),\n",
       " ('role_edges',),\n",
       " ('server_cost',),\n",
       " ('servers',),\n",
       " ('slave_master_info',),\n",
       " ('slave_relay_log_info',),\n",
       " ('slave_worker_info',),\n",
       " ('slow_log',),\n",
       " ('tables_priv',),\n",
       " ('time_zone',),\n",
       " ('time_zone_leap_second',),\n",
       " ('time_zone_name',),\n",
       " ('time_zone_transition',),\n",
       " ('time_zone_transition_type',),\n",
       " ('user',))"
      ]
     },
     "execution_count": 19,
     "metadata": {},
     "output_type": "execute_result"
    }
   ],
   "source": [
    "cursor.execute('use mysql')\n",
    "cursor.execute('show tables')\n",
    "cursor.fetchall()"
   ]
  },
  {
   "cell_type": "markdown",
   "metadata": {},
   "source": [
    "创建表"
   ]
  },
  {
   "cell_type": "code",
   "execution_count": 24,
   "metadata": {
    "scrolled": false
   },
   "outputs": [
    {
     "data": {
      "text/plain": [
       "()"
      ]
     },
     "execution_count": 24,
     "metadata": {},
     "output_type": "execute_result"
    }
   ],
   "source": [
    "cursor.execute('use spiders')\n",
    "cursor.execute('''create table if not exists students(\n",
    "                    name varchar(255) not null,\n",
    "                    id varchar(255) not null,\n",
    "                    age int not null,\n",
    "                    primary key(id))''')\n",
    "message = cursor.fetchall()\n",
    "message"
   ]
  },
  {
   "cell_type": "markdown",
   "metadata": {},
   "source": [
    "插入数据"
   ]
  },
  {
   "cell_type": "code",
   "execution_count": 31,
   "metadata": {
    "scrolled": true
   },
   "outputs": [
    {
     "name": "stdout",
     "output_type": "stream",
     "text": [
      "yes\n"
     ]
    }
   ],
   "source": [
    "name = 'wujiahong'\n",
    "_id = '2017153040'\n",
    "age = 21\n",
    "op = 'insert into students(name,id,age) values(%s,%s,%s)'\n",
    "try:\n",
    "    cursor.execute(op,(name,_id,age))\n",
    "    myDB.commit()  #对数据插入，更新和删除都需要这个操作\n",
    "    print('yes')\n",
    "except:\n",
    "    print('Error')\n",
    "    myDB.rollback() #如果执行失败，该函数执行数据回滚，相当于什么也没有发生过"
   ]
  },
  {
   "cell_type": "code",
   "execution_count": 33,
   "metadata": {
    "scrolled": true
   },
   "outputs": [
    {
     "data": {
      "text/plain": [
       "(('wujiahong', '2017153040', 21),)"
      ]
     },
     "execution_count": 33,
     "metadata": {},
     "output_type": "execute_result"
    }
   ],
   "source": [
    "cursor.execute('select * from students')\n",
    "cursor.fetchall()"
   ]
  },
  {
   "cell_type": "code",
   "execution_count": 39,
   "metadata": {
    "scrolled": true
   },
   "outputs": [
    {
     "name": "stdout",
     "output_type": "stream",
     "text": [
      "yes\n"
     ]
    }
   ],
   "source": [
    "name = 'victor'\n",
    "_id = '2017153046'\n",
    "age = 21\n",
    "op = 'insert into students(name,id,age) values(%s,%s,%s)'\n",
    "try:\n",
    "    cursor.execute(op,(name,_id,age))\n",
    "    myDB.commit()\n",
    "    print('yes')\n",
    "except:\n",
    "    myDB.rollback()\n",
    "    print('Error')"
   ]
  },
  {
   "cell_type": "code",
   "execution_count": 40,
   "metadata": {
    "scrolled": true
   },
   "outputs": [
    {
     "data": {
      "text/plain": [
       "(('wujiahong', '2017153040', 21), ('victor', '2017153046', 21))"
      ]
     },
     "execution_count": 40,
     "metadata": {},
     "output_type": "execute_result"
    }
   ],
   "source": [
    "cursor.execute('select * from students')\n",
    "cursor.fetchall()"
   ]
  },
  {
   "cell_type": "markdown",
   "metadata": {},
   "source": [
    "用字典的方法传入"
   ]
  },
  {
   "cell_type": "code",
   "execution_count": 46,
   "metadata": {
    "scrolled": true
   },
   "outputs": [
    {
     "name": "stdout",
     "output_type": "stream",
     "text": [
      "ok!\n"
     ]
    }
   ],
   "source": [
    "data = {\n",
    "    'name':'Bob',\n",
    "    'id':'2017158436',\n",
    "    'age':25\n",
    "}\n",
    "table = 'students'\n",
    "keys = ', '.join(data.keys())\n",
    "values = ', '.join(['%s'] * len(data))\n",
    "op = 'insert into {table}({keys}) values ({values})'.format(table=table,keys=keys,values=values)\n",
    "try:\n",
    "    if cursor.execute(op,tuple(data.values())):\n",
    "        print('ok!')\n",
    "        myDB.commit()\n",
    "except:\n",
    "    print('error!')\n",
    "    myDB.rollback()"
   ]
  },
  {
   "cell_type": "code",
   "execution_count": 47,
   "metadata": {
    "scrolled": false
   },
   "outputs": [
    {
     "data": {
      "text/plain": [
       "(('wujiahong', '2017153040', 21),\n",
       " ('victor', '2017153046', 21),\n",
       " ('Json', '2017158364', 18),\n",
       " ('Bob', '2017158436', 25))"
      ]
     },
     "execution_count": 47,
     "metadata": {},
     "output_type": "execute_result"
    }
   ],
   "source": [
    "cursor.execute('select * from students')\n",
    "cursor.fetchall()"
   ]
  },
  {
   "cell_type": "code",
   "execution_count": 49,
   "metadata": {},
   "outputs": [],
   "source": [
    "myDB.close()"
   ]
  },
  {
   "cell_type": "markdown",
   "metadata": {},
   "source": [
    "## 更新数据"
   ]
  },
  {
   "cell_type": "code",
   "execution_count": 50,
   "metadata": {
    "scrolled": false
   },
   "outputs": [
    {
     "name": "stdout",
     "output_type": "stream",
     "text": [
      "连接成功!\n"
     ]
    }
   ],
   "source": [
    "try:\n",
    "    myDB = pymysql.connect(host='localhost',user='root',password='19981022',port=3306)\n",
    "    print('连接成功!')\n",
    "except:\n",
    "    print('连接失败!')\n",
    "cursor = myDB.cursor()\n",
    "#操作语句\n",
    "op = 'update students set age = %s where name = %s'"
   ]
  },
  {
   "cell_type": "code",
   "execution_count": 53,
   "metadata": {
    "scrolled": true
   },
   "outputs": [
    {
     "name": "stdout",
     "output_type": "stream",
     "text": [
      "yes\n"
     ]
    }
   ],
   "source": [
    "cursor.execute('use spiders')\n",
    "try:\n",
    "    cursor.execute(op,(18,'wujiahong'))\n",
    "    myDB.commit()\n",
    "    print('yes')\n",
    "except:\n",
    "    print('error!')\n",
    "    myDB.rollback()"
   ]
  },
  {
   "cell_type": "code",
   "execution_count": null,
   "metadata": {},
   "outputs": [],
   "source": []
  }
 ],
 "metadata": {
  "kernelspec": {
   "display_name": "Python 3",
   "language": "python",
   "name": "python3"
  },
  "language_info": {
   "codemirror_mode": {
    "name": "ipython",
    "version": 3
   },
   "file_extension": ".py",
   "mimetype": "text/x-python",
   "name": "python",
   "nbconvert_exporter": "python",
   "pygments_lexer": "ipython3",
   "version": "3.7.3"
  }
 },
 "nbformat": 4,
 "nbformat_minor": 2
}
