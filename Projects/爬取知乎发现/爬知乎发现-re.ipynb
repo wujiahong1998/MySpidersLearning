{
 "cells": [
  {
   "cell_type": "markdown",
   "metadata": {},
   "source": [
    "# 爬取知乎发现"
   ]
  },
  {
   "cell_type": "code",
   "execution_count": 16,
   "metadata": {},
   "outputs": [
    {
     "name": "stdout",
     "output_type": "stream",
     "text": [
      "1 :大过年的，玩点什么好？\n",
      "2 :新型冠状病毒肺炎预防术\n",
      "3 :有哪些特别好看的壁纸？\n",
      "4 :「知识」无法「劝退」\n"
     ]
    }
   ],
   "source": [
    "import requests\n",
    "import re\n",
    "headers = {\n",
    "    'User-Agent':'Opera/9.80 (Windows NT 6.0) Presto/2.12.388 Version/12.14'\n",
    "}\n",
    "url = 'https://www.zhihu.com/explore'\n",
    "r = requests.get(url,headers=headers)\n",
    "regex = '<a.*?ExploreSpecialCard-title.*?>(.*?)</a>'\n",
    "result = re.findall(regex,r.text,re.S)\n",
    "for i in range(0,len(result)):\n",
    "    print(i+1 ,\":\"+result[i].strip())"
   ]
  },
  {
   "cell_type": "markdown",
   "metadata": {},
   "source": [
    "写入文档分析"
   ]
  },
  {
   "cell_type": "code",
   "execution_count": 7,
   "metadata": {},
   "outputs": [],
   "source": [
    "with open(\"zhihuExplore.html\",'w',encoding='utf-8') as f:\n",
    "    f.write(r.text)"
   ]
  }
 ],
 "metadata": {
  "kernelspec": {
   "display_name": "Python 3",
   "language": "python",
   "name": "python3"
  },
  "language_info": {
   "codemirror_mode": {
    "name": "ipython",
    "version": 3
   },
   "file_extension": ".py",
   "mimetype": "text/x-python",
   "name": "python",
   "nbconvert_exporter": "python",
   "pygments_lexer": "ipython3",
   "version": "3.7.4"
  }
 },
 "nbformat": 4,
 "nbformat_minor": 2
}
