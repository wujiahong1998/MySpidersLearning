{
 "cells": [
  {
   "cell_type": "markdown",
   "metadata": {},
   "source": [
    "# Ajax-爬取微博博主的所有微博数据"
   ]
  },
  {
   "cell_type": "markdown",
   "metadata": {},
   "source": [
    "首先导入必要的包"
   ]
  },
  {
   "cell_type": "code",
   "execution_count": 13,
   "metadata": {},
   "outputs": [],
   "source": [
    "import requests\n",
    "import json\n",
    "from urllib.parse import urlencode\n",
    "import re\n",
    "import time\n",
    "from pyquery import PyQuery as pq"
   ]
  },
  {
   "cell_type": "markdown",
   "metadata": {},
   "source": [
    "设置基准网址以及headers"
   ]
  },
  {
   "cell_type": "code",
   "execution_count": 3,
   "metadata": {
    "scrolled": false
   },
   "outputs": [],
   "source": [
    "base_url = 'https://m.weibo.cn/api/container/getIndex?'\n",
    "headers = {\n",
    "    'User-Agent':'Mozilla/5.0 (Windows NT 10.0; Win64; x64) AppleWebKit/537.36 (KHTML, like Gecko) Chrome/79.0.3945.130 Safari/537.36',\n",
    "    'Host':'m.weibo.cn',\n",
    "    'Referer':'https://m.weibo.cn/u/1752054291',\n",
    "    'X-Requested-With': 'XMLHttpRequest'\n",
    "}"
   ]
  },
  {
   "cell_type": "markdown",
   "metadata": {},
   "source": [
    "设置参数测试一下返回结果，ok！"
   ]
  },
  {
   "cell_type": "code",
   "execution_count": 4,
   "metadata": {},
   "outputs": [
    {
     "data": {
      "text/plain": [
       "<Response [200]>"
      ]
     },
     "execution_count": 4,
     "metadata": {},
     "output_type": "execute_result"
    }
   ],
   "source": [
    "params = {\n",
    "    'type': 'uid',\n",
    "    'value': '1752054291',\n",
    "    'containerid': '1076031752054291',\n",
    "    'page':1\n",
    "}\n",
    "url = base_url + urlencode(params)\n",
    "r = requests.get(url,headers)\n",
    "r"
   ]
  },
  {
   "cell_type": "markdown",
   "metadata": {},
   "source": [
    "**定义获取JSON数据的函数**"
   ]
  },
  {
   "cell_type": "code",
   "execution_count": 5,
   "metadata": {},
   "outputs": [],
   "source": [
    "def get_data(index):\n",
    "    params = {\n",
    "    'type': 'uid',\n",
    "    'value': '1752054291',\n",
    "    'containerid': '1076031752054291',\n",
    "    'page':index\n",
    "    }\n",
    "    url = base_url + urlencode(params)\n",
    "    try:\n",
    "        r = requests.get(url,headers)\n",
    "        if r.status_code == 200:\n",
    "            return r.json()\n",
    "    except requests.ConnectionError as e:\n",
    "        print(\"error\",e.args)"
   ]
  },
  {
   "cell_type": "markdown",
   "metadata": {},
   "source": [
    "定义处理JSON数据并且返回迭代器的函数"
   ]
  },
  {
   "cell_type": "code",
   "execution_count": 10,
   "metadata": {},
   "outputs": [],
   "source": [
    "def parse_data(j_data):\n",
    "    if j_data:\n",
    "        its = j_data.get('data').get('cards')\n",
    "        for it in its:\n",
    "            if it.get('card_type') != 9:\n",
    "                continue\n",
    "            it = it.get('mblog')\n",
    "            weibo = {}\n",
    "            weibo['id'] = it.get('id')\n",
    "            weibo['text'] = pq(it.get('text')).text()\n",
    "            weibo['reposts'] = it.get('reposts_count')\n",
    "            weibo['comments'] = it.get('comments_count')\n",
    "            weibo['attitudes'] = it.get('attitudes_count')\n",
    "            weibo['pic'] = it.get('original_pic')\n",
    "            yield weibo"
   ]
  },
  {
   "cell_type": "markdown",
   "metadata": {},
   "source": [
    "定义写文件的函数"
   ]
  },
  {
   "cell_type": "code",
   "execution_count": 9,
   "metadata": {},
   "outputs": [],
   "source": [
    "def write_data(weibos,index):\n",
    "    with open(\"weibo.md\",'a+',encoding='utf-8') as f:\n",
    "        f.write('# 第%d页\\n' % index)\n",
    "        for x in weibos:\n",
    "            f.write(x['text']+'\\n')\n",
    "            f.write('点赞数:'+str(x['attitudes'])+' 转发数:'+str(x['reposts'])+ ' 评论数:'+str(x['comments'])+'\\n')\n",
    "            f.write('![](%s)\\n\\n' % x['pic'])\n",
    "        print('page %d write ok!' % index)"
   ]
  },
  {
   "cell_type": "markdown",
   "metadata": {},
   "source": [
    "设置爬取的最新微博的页数并且开始爬取"
   ]
  },
  {
   "cell_type": "code",
   "execution_count": 15,
   "metadata": {
    "scrolled": true
   },
   "outputs": [
    {
     "name": "stdout",
     "output_type": "stream",
     "text": [
      "page 1 write ok!\n",
      "page 2 write ok!\n",
      "page 3 write ok!\n",
      "page 4 write ok!\n",
      "page 5 write ok!\n",
      "page 6 write ok!\n",
      "page 7 write ok!\n",
      "page 8 write ok!\n",
      "page 9 write ok!\n"
     ]
    }
   ],
   "source": [
    "page_num = 10\n",
    "for index in range(1,page_num):\n",
    "    j_data = get_data(index)\n",
    "    result = parse_data(j_data)\n",
    "    write_data(result,index)\n",
    "    time.sleep(2)"
   ]
  }
 ],
 "metadata": {
  "kernelspec": {
   "display_name": "Python 3",
   "language": "python",
   "name": "python3"
  },
  "language_info": {
   "codemirror_mode": {
    "name": "ipython",
    "version": 3
   },
   "file_extension": ".py",
   "mimetype": "text/x-python",
   "name": "python",
   "nbconvert_exporter": "python",
   "pygments_lexer": "ipython3",
   "version": "3.7.4"
  }
 },
 "nbformat": 4,
 "nbformat_minor": 2
}
